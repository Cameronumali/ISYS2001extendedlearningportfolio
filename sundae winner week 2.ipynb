{
 "cells": [
  {
   "cell_type": "code",
   "execution_count": 2,
   "metadata": {},
   "outputs": [
    {
     "ename": "NameError",
     "evalue": "name 'winner' is not defined",
     "output_type": "error",
     "traceback": [
      "\u001b[1;31m---------------------------------------------------------------------------\u001b[0m",
      "\u001b[1;31mNameError\u001b[0m                                 Traceback (most recent call last)",
      "Cell \u001b[1;32mIn[2], line 9\u001b[0m\n\u001b[0;32m      5\u001b[0m winners \u001b[38;5;241m=\u001b[39m random\u001b[38;5;241m.\u001b[39msample(customers,\u001b[38;5;241m2\u001b[39m)\n\u001b[0;32m      7\u001b[0m flavor \u001b[38;5;241m=\u001b[39m \u001b[38;5;124m'\u001b[39m\u001b[38;5;124mvanilla\u001b[39m\u001b[38;5;124m'\u001b[39m\n\u001b[1;32m----> 9\u001b[0m \u001b[38;5;28mprint\u001b[39m(\u001b[38;5;124m'\u001b[39m\u001b[38;5;124mCongratulations \u001b[39m\u001b[38;5;124m'\u001b[39m \u001b[38;5;241m+\u001b[39m \u001b[43mwinner\u001b[49m \u001b[38;5;241m+\u001b[39m\n\u001b[0;32m     10\u001b[0m  \u001b[38;5;124m'\u001b[39m\u001b[38;5;124m you have won an ice cream sundae!\u001b[39m\u001b[38;5;124m'\u001b[39m)\n\u001b[0;32m     12\u001b[0m prompt \u001b[38;5;241m=\u001b[39m \u001b[38;5;124m'\u001b[39m\u001b[38;5;124mWould you like a cherry on top? \u001b[39m\u001b[38;5;124m'\u001b[39m\n\u001b[0;32m     14\u001b[0m wants_cherry \u001b[38;5;241m=\u001b[39m \u001b[38;5;28minput\u001b[39m(prompt)\n",
      "\u001b[1;31mNameError\u001b[0m: name 'winner' is not defined"
     ]
    }
   ],
   "source": [
    "import random\n",
    "\n",
    "customers =  ['Jimmy', 'Kim', 'John', 'Stacie']\n",
    "\n",
    "winners = random.sample(customers,2)\n",
    "\n",
    "flavor = 'vanilla'\n",
    "\n",
    "print('Congratulations ' + winner +\n",
    " ' you have won an ice cream sundae!')\n",
    "\n",
    "prompt = 'Would you like a cherry on top? '\n",
    "\n",
    "wants_cherry = input(prompt)\n",
    "\n",
    "order = flavor + ' sundae '\n",
    "\n",
    "if (wants_cherry == 'yes'):\n",
    " order = order + ' with a cherry on top'\n",
    "\n",
    "print('One ' + order + ' for ' + winner +\n",
    " ' coming right up...')"
   ]
  }
 ],
 "metadata": {
  "kernelspec": {
   "display_name": "Python 3",
   "language": "python",
   "name": "python3"
  },
  "language_info": {
   "codemirror_mode": {
    "name": "ipython",
    "version": 3
   },
   "file_extension": ".py",
   "mimetype": "text/x-python",
   "name": "python",
   "nbconvert_exporter": "python",
   "pygments_lexer": "ipython3",
   "version": "3.11.9"
  }
 },
 "nbformat": 4,
 "nbformat_minor": 2
}
