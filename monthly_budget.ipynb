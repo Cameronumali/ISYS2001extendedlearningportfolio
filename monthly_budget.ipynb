{
 "cells": [
  {
   "cell_type": "code",
   "execution_count": 1,
   "metadata": {},
   "outputs": [
    {
     "name": "stdout",
     "output_type": "stream",
     "text": [
      "Collecting ipywidgets\n",
      "  Downloading ipywidgets-8.1.3-py3-none-any.whl.metadata (2.4 kB)\n",
      "Requirement already satisfied: comm>=0.1.3 in c:\\users\\camer\\appdata\\local\\packages\\pythonsoftwarefoundation.python.3.11_qbz5n2kfra8p0\\localcache\\local-packages\\python311\\site-packages (from ipywidgets) (0.2.2)\n",
      "Requirement already satisfied: ipython>=6.1.0 in c:\\users\\camer\\appdata\\local\\packages\\pythonsoftwarefoundation.python.3.11_qbz5n2kfra8p0\\localcache\\local-packages\\python311\\site-packages (from ipywidgets) (8.22.2)\n",
      "Requirement already satisfied: traitlets>=4.3.1 in c:\\users\\camer\\appdata\\local\\packages\\pythonsoftwarefoundation.python.3.11_qbz5n2kfra8p0\\localcache\\local-packages\\python311\\site-packages (from ipywidgets) (5.14.2)\n",
      "Collecting widgetsnbextension~=4.0.11 (from ipywidgets)\n",
      "  Downloading widgetsnbextension-4.0.11-py3-none-any.whl.metadata (1.6 kB)\n",
      "Collecting jupyterlab-widgets~=3.0.11 (from ipywidgets)\n",
      "  Downloading jupyterlab_widgets-3.0.11-py3-none-any.whl.metadata (4.1 kB)\n",
      "Requirement already satisfied: decorator in c:\\users\\camer\\appdata\\local\\packages\\pythonsoftwarefoundation.python.3.11_qbz5n2kfra8p0\\localcache\\local-packages\\python311\\site-packages (from ipython>=6.1.0->ipywidgets) (5.1.1)\n",
      "Requirement already satisfied: jedi>=0.16 in c:\\users\\camer\\appdata\\local\\packages\\pythonsoftwarefoundation.python.3.11_qbz5n2kfra8p0\\localcache\\local-packages\\python311\\site-packages (from ipython>=6.1.0->ipywidgets) (0.19.1)\n",
      "Requirement already satisfied: matplotlib-inline in c:\\users\\camer\\appdata\\local\\packages\\pythonsoftwarefoundation.python.3.11_qbz5n2kfra8p0\\localcache\\local-packages\\python311\\site-packages (from ipython>=6.1.0->ipywidgets) (0.1.6)\n",
      "Requirement already satisfied: prompt-toolkit<3.1.0,>=3.0.41 in c:\\users\\camer\\appdata\\local\\packages\\pythonsoftwarefoundation.python.3.11_qbz5n2kfra8p0\\localcache\\local-packages\\python311\\site-packages (from ipython>=6.1.0->ipywidgets) (3.0.43)\n",
      "Requirement already satisfied: pygments>=2.4.0 in c:\\users\\camer\\appdata\\local\\packages\\pythonsoftwarefoundation.python.3.11_qbz5n2kfra8p0\\localcache\\local-packages\\python311\\site-packages (from ipython>=6.1.0->ipywidgets) (2.17.2)\n",
      "Requirement already satisfied: stack-data in c:\\users\\camer\\appdata\\local\\packages\\pythonsoftwarefoundation.python.3.11_qbz5n2kfra8p0\\localcache\\local-packages\\python311\\site-packages (from ipython>=6.1.0->ipywidgets) (0.6.3)\n",
      "Requirement already satisfied: colorama in c:\\users\\camer\\appdata\\local\\packages\\pythonsoftwarefoundation.python.3.11_qbz5n2kfra8p0\\localcache\\local-packages\\python311\\site-packages (from ipython>=6.1.0->ipywidgets) (0.4.6)\n",
      "Requirement already satisfied: parso<0.9.0,>=0.8.3 in c:\\users\\camer\\appdata\\local\\packages\\pythonsoftwarefoundation.python.3.11_qbz5n2kfra8p0\\localcache\\local-packages\\python311\\site-packages (from jedi>=0.16->ipython>=6.1.0->ipywidgets) (0.8.3)\n",
      "Requirement already satisfied: wcwidth in c:\\users\\camer\\appdata\\local\\packages\\pythonsoftwarefoundation.python.3.11_qbz5n2kfra8p0\\localcache\\local-packages\\python311\\site-packages (from prompt-toolkit<3.1.0,>=3.0.41->ipython>=6.1.0->ipywidgets) (0.2.13)\n",
      "Requirement already satisfied: executing>=1.2.0 in c:\\users\\camer\\appdata\\local\\packages\\pythonsoftwarefoundation.python.3.11_qbz5n2kfra8p0\\localcache\\local-packages\\python311\\site-packages (from stack-data->ipython>=6.1.0->ipywidgets) (2.0.1)\n",
      "Requirement already satisfied: asttokens>=2.1.0 in c:\\users\\camer\\appdata\\local\\packages\\pythonsoftwarefoundation.python.3.11_qbz5n2kfra8p0\\localcache\\local-packages\\python311\\site-packages (from stack-data->ipython>=6.1.0->ipywidgets) (2.4.1)\n",
      "Requirement already satisfied: pure-eval in c:\\users\\camer\\appdata\\local\\packages\\pythonsoftwarefoundation.python.3.11_qbz5n2kfra8p0\\localcache\\local-packages\\python311\\site-packages (from stack-data->ipython>=6.1.0->ipywidgets) (0.2.2)\n",
      "Requirement already satisfied: six>=1.12.0 in c:\\users\\camer\\appdata\\local\\packages\\pythonsoftwarefoundation.python.3.11_qbz5n2kfra8p0\\localcache\\local-packages\\python311\\site-packages (from asttokens>=2.1.0->stack-data->ipython>=6.1.0->ipywidgets) (1.16.0)\n",
      "Downloading ipywidgets-8.1.3-py3-none-any.whl (139 kB)\n",
      "   ---------------------------------------- 0.0/139.4 kB ? eta -:--:--\n",
      "   -- ------------------------------------- 10.2/139.4 kB ? eta -:--:--\n",
      "   -------- ------------------------------ 30.7/139.4 kB 660.6 kB/s eta 0:00:01\n",
      "   -------- ------------------------------ 30.7/139.4 kB 660.6 kB/s eta 0:00:01\n",
      "   ----------------- --------------------- 61.4/139.4 kB 409.6 kB/s eta 0:00:01\n",
      "   ------------------------------ ------- 112.6/139.4 kB 595.3 kB/s eta 0:00:01\n",
      "   ------------------------------------ - 133.1/139.4 kB 605.3 kB/s eta 0:00:01\n",
      "   ------------------------------------ - 133.1/139.4 kB 605.3 kB/s eta 0:00:01\n",
      "   -------------------------------------- 139.4/139.4 kB 434.9 kB/s eta 0:00:00\n",
      "Downloading jupyterlab_widgets-3.0.11-py3-none-any.whl (214 kB)\n",
      "   ---------------------------------------- 0.0/214.4 kB ? eta -:--:--\n",
      "   ---------------------------- ----------- 153.6/214.4 kB 4.6 MB/s eta 0:00:01\n",
      "   -------------------------------- ------- 174.1/214.4 kB 5.3 MB/s eta 0:00:01\n",
      "   -------------------------------------- - 204.8/214.4 kB 2.1 MB/s eta 0:00:01\n",
      "   ---------------------------------------- 214.4/214.4 kB 1.5 MB/s eta 0:00:00\n",
      "Downloading widgetsnbextension-4.0.11-py3-none-any.whl (2.3 MB)\n",
      "   ---------------------------------------- 0.0/2.3 MB ? eta -:--:--\n",
      "   ---- ----------------------------------- 0.3/2.3 MB 7.9 MB/s eta 0:00:01\n",
      "   ---- ----------------------------------- 0.3/2.3 MB 7.9 MB/s eta 0:00:01\n",
      "   ----------- ---------------------------- 0.7/2.3 MB 4.7 MB/s eta 0:00:01\n",
      "   ------------ --------------------------- 0.8/2.3 MB 5.3 MB/s eta 0:00:01\n",
      "   ----------------- ---------------------- 1.0/2.3 MB 4.7 MB/s eta 0:00:01\n",
      "   ------------------------------ --------- 1.8/2.3 MB 6.7 MB/s eta 0:00:01\n",
      "   --------------------------------- ------ 2.0/2.3 MB 6.2 MB/s eta 0:00:01\n",
      "   ---------------------------------------  2.3/2.3 MB 6.8 MB/s eta 0:00:01\n",
      "   ---------------------------------------- 2.3/2.3 MB 6.2 MB/s eta 0:00:00\n",
      "Installing collected packages: widgetsnbextension, jupyterlab-widgets, ipywidgets\n",
      "Successfully installed ipywidgets-8.1.3 jupyterlab-widgets-3.0.11 widgetsnbextension-4.0.11\n",
      "Note: you may need to restart the kernel to use updated packages.\n"
     ]
    }
   ],
   "source": [
    "%pip install ipywidgets"
   ]
  },
  {
   "cell_type": "code",
   "execution_count": 5,
   "metadata": {},
   "outputs": [
    {
     "data": {
      "application/vnd.jupyter.widget-view+json": {
       "model_id": "9e805882fd2e470396e152d6535904ba",
       "version_major": 2,
       "version_minor": 0
      },
      "text/plain": [
       "FloatText(value=0.0, description='Monthly income:')"
      ]
     },
     "metadata": {},
     "output_type": "display_data"
    },
    {
     "data": {
      "application/vnd.jupyter.widget-view+json": {
       "model_id": "711bf084992c4287bb78ed4999392d41",
       "version_major": 2,
       "version_minor": 0
      },
      "text/plain": [
       "Text(value='', description='Expense category:')"
      ]
     },
     "metadata": {},
     "output_type": "display_data"
    },
    {
     "data": {
      "application/vnd.jupyter.widget-view+json": {
       "model_id": "ca61c72cf1984f479959aa822c518694",
       "version_major": 2,
       "version_minor": 0
      },
      "text/plain": [
       "FloatText(value=0.0, description='Amount:')"
      ]
     },
     "metadata": {},
     "output_type": "display_data"
    },
    {
     "data": {
      "application/vnd.jupyter.widget-view+json": {
       "model_id": "781c63d4a89445ba90915a1158f1d473",
       "version_major": 2,
       "version_minor": 0
      },
      "text/plain": [
       "Button(description='Add expense', style=ButtonStyle())"
      ]
     },
     "metadata": {},
     "output_type": "display_data"
    },
    {
     "data": {
      "application/vnd.jupyter.widget-view+json": {
       "model_id": "4cdcb67b32a947b296dea193f4b9a968",
       "version_major": 2,
       "version_minor": 0
      },
      "text/plain": [
       "Output()"
      ]
     },
     "metadata": {},
     "output_type": "display_data"
    },
    {
     "data": {
      "application/vnd.jupyter.widget-view+json": {
       "model_id": "4e2319f8f1a548d09d517166755c018b",
       "version_major": 2,
       "version_minor": 0
      },
      "text/plain": [
       "Button(description='Calculate balance', style=ButtonStyle())"
      ]
     },
     "metadata": {},
     "output_type": "display_data"
    },
    {
     "data": {
      "application/vnd.jupyter.widget-view+json": {
       "model_id": "f597e31e09a94cf48dc48277428f730c",
       "version_major": 2,
       "version_minor": 0
      },
      "text/plain": [
       "Button(description='Restart', style=ButtonStyle())"
      ]
     },
     "metadata": {},
     "output_type": "display_data"
    },
    {
     "data": {
      "application/vnd.jupyter.widget-view+json": {
       "model_id": "8228a5dfe2b246e48904ccf75b378f74",
       "version_major": 2,
       "version_minor": 0
      },
      "text/plain": [
       "Output()"
      ]
     },
     "metadata": {},
     "output_type": "display_data"
    }
   ],
   "source": [
    "import ipywidgets as ipw\n",
    "\n",
    "\n",
    "income_widget = ipw.FloatText(description=\"Monthly income:\")\n",
    "category_widget = ipw.Text(description=\"Expense category:\")\n",
    "amount_widget = ipw.FloatText(description=\"Amount:\")\n",
    "expenses_output = ipw.Output()\n",
    "balance_output = ipw.Output()\n",
    "\n",
    "\n",
    "add_button = ipw.Button(description=\"Add expense\")\n",
    "\n",
    "\n",
    "calculate_button = ipw.Button(description=\"Calculate balance\")\n",
    "\n",
    "\n",
    "reset_button = ipw.Button(description=\"Restart\")\n",
    "\n",
    "\n",
    "expenses = {}\n",
    "\n",
    "\n",
    "def add_expense(button):\n",
    "    category = category_widget.value\n",
    "    amount = amount_widget.value\n",
    "    expenses[category] = amount\n",
    "    with expenses_output:\n",
    "        print(f\"Added {amount} to {category}\")\n",
    "    category_widget.value = \"\"\n",
    "    amount_widget.value = 0.0\n",
    "\n",
    "\n",
    "def calculate_balance(button):\n",
    "    total_expenses = sum(expenses.values())\n",
    "    income = income_widget.value\n",
    "    balance = income - total_expenses\n",
    "    with balance_output:\n",
    "        print(f\"\\nTotal expenses: {total_expenses}\")\n",
    "        print(f\"Remaining balance: {balance}\\n\")\n",
    "\n",
    "\n",
    "def reset_budget(button):\n",
    "    global expenses\n",
    "    expenses = {}\n",
    "    income_widget.value = 0.0\n",
    "    expenses_output.clear_output()\n",
    "    balance_output.clear_output()\n",
    "\n",
    "\n",
    "add_button.on_click(add_expense)\n",
    "calculate_button.on_click(calculate_balance)\n",
    "reset_button.on_click(reset_budget)\n",
    "\n",
    "\n",
    "display(income_widget)\n",
    "display(category_widget)\n",
    "display(amount_widget)\n",
    "display(add_button)\n",
    "display(expenses_output)\n",
    "display(calculate_button)\n",
    "display(reset_button)\n",
    "display(balance_output)"
   ]
  }
 ],
 "metadata": {
  "kernelspec": {
   "display_name": "Python 3",
   "language": "python",
   "name": "python3"
  },
  "language_info": {
   "codemirror_mode": {
    "name": "ipython",
    "version": 3
   },
   "file_extension": ".py",
   "mimetype": "text/x-python",
   "name": "python",
   "nbconvert_exporter": "python",
   "pygments_lexer": "ipython3",
   "version": "3.11.9"
  }
 },
 "nbformat": 4,
 "nbformat_minor": 2
}
