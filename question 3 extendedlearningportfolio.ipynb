{
 "cells": [
  {
   "cell_type": "code",
   "execution_count": null,
   "metadata": {},
   "outputs": [],
   "source": [
    "def assign_shifts_to_volunteers(volunteers: list, shifts: list) -> dict:\n",
    "    \"\"\"\n",
    "    Assigns volunteers to available shifts based on their preferences.\n",
    "\n",
    "    Args:\n",
    "        volunteers (list): List of volunteers' names.\n",
    "        shifts (list): List of available shifts.\n",
    "\n",
    "    Returns:\n",
    "        dict: A dictionary mapping shifts to volunteers.\n",
    "\n",
    "    Example:\n",
    "        >>> assign_shifts_to_volunteers([\"Cameron\", \"Jimmy\"], [\"Morning\", \"Afternoon\"])\n",
    "        {'Morning': 'Alice', 'Afternoon': 'Bob'}\n",
    "    \"\"\"\n",
    "\n",
    "    # Initializes an empty dictionary for shift assignments\n",
    "    shift_assignments = {}\n",
    "\n",
    "    for volunteer in volunteers:  # Loop through the volunteers\n",
    "        # Prompt the volunteer for their preferred shift number\n",
    "        while True:\n",
    "            try:\n",
    "                preference_num = int(input(f\"{volunteer}, enter your preferred shift number (1-{len(shifts)}): \"))\n",
    "                if 1 <= preference_num <= len(shifts):\n",
    "                    break\n",
    "                else:\n",
    "                    print(\"Invalid input. Please enter a number within the range.\")\n",
    "            except ValueError:\n",
    "                print(\"Invalid input. Please enter a number.\")\n",
    "\n",
    "        # Convert to 0-based index\n",
    "        preference_num -= 1\n",
    "\n",
    "        # Assign the preferred shift to the volunteer and remove it from the list of available shifts\n",
    "        shift_assignments[shifts.pop(preference_num)] = volunteer\n",
    "\n",
    "    return shift_assignments"
   ]
  },
  {
   "cell_type": "code",
   "execution_count": 3,
   "metadata": {},
   "outputs": [
    {
     "name": "stdout",
     "output_type": "stream",
     "text": [
      "Welcome to the Automated Cafe!\n",
      "Sorry, we don't have that item.\n"
     ]
    }
   ],
   "source": [
    "def automated_cafe():\n",
    "    \"\"\"\n",
    "    Automates a café's order system using conditionals to handle menu choices and calculate costs.\n",
    "\n",
    "    Example:\n",
    "        >>> automated_cafe()\n",
    "        Welcome to the Automated Cafe!\n",
    "        What would you like to order? (coffee/tea): coffee\n",
    "        That would be $5. Thank you!\n",
    "    \"\"\"\n",
    "\n",
    "    print(\"Welcome to the Automated Cafe!\")\n",
    "\n",
    "    # Initializes the menu\n",
    "    menu = {\"coffee\": 5, \"tea\": 3,}\n",
    "\n",
    "    # Prompts the user for their order\n",
    "    order = input(\"What would you like to order? (coffee/tea): \")\n",
    "\n",
    "    # Checks if the order is in the menu\n",
    "    if order in menu:\n",
    "        # Calculates the cost\n",
    "        cost = menu[order]\n",
    "        print(f\"That would be ${cost}. Thank you!\")\n",
    "    else:\n",
    "        print(\"Sorry, we don't have that item.\")\n",
    "\n",
    "if __name__ == \"__main__\":\n",
    "    automated_cafe()"
   ]
  },
  {
   "cell_type": "code",
   "execution_count": null,
   "metadata": {},
   "outputs": [],
   "source": []
  }
 ],
 "metadata": {
  "kernelspec": {
   "display_name": "Python 3",
   "language": "python",
   "name": "python3"
  },
  "language_info": {
   "codemirror_mode": {
    "name": "ipython",
    "version": 3
   },
   "file_extension": ".py",
   "mimetype": "text/x-python",
   "name": "python",
   "nbconvert_exporter": "python",
   "pygments_lexer": "ipython3",
   "version": "3.11.9"
  }
 },
 "nbformat": 4,
 "nbformat_minor": 2
}
