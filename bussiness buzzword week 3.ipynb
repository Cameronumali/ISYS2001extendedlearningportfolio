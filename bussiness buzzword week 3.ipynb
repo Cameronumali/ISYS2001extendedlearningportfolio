{
 "cells": [
  {
   "cell_type": "code",
   "execution_count": 1,
   "metadata": {},
   "outputs": [
    {
     "name": "stdout",
     "output_type": "stream",
     "text": [
      "synergy leveraging efficiency\n"
     ]
    }
   ],
   "source": [
    "import random\n",
    "\n",
    "\n",
    "buzzwords = [\"synergy\", \"optimization\", \"pivot\", \"paradigm\", \"disruptive\"]\n",
    "actions = [\"leveraging\", \"utilizing\", \"monetizing\", \"streamlining\", \"scaling\"]\n",
    "outcomes = [\"efficiency\", \"growth\", \"profitability\", \"innovation\", \"sustainability\"]\n",
    "\n",
    "\n",
    "chosen_buzzword = random.choice(buzzwords)\n",
    "chosen_action = random.choice(actions)\n",
    "chosen_outcome = random.choice(outcomes)\n",
    "\n",
    "\n",
    "phrase = chosen_buzzword + \" \" + chosen_action + \" \" + chosen_outcome\n",
    "\n",
    "\n",
    "print(phrase)"
   ]
  }
 ],
 "metadata": {
  "kernelspec": {
   "display_name": "Python 3",
   "language": "python",
   "name": "python3"
  },
  "language_info": {
   "codemirror_mode": {
    "name": "ipython",
    "version": 3
   },
   "file_extension": ".py",
   "mimetype": "text/x-python",
   "name": "python",
   "nbconvert_exporter": "python",
   "pygments_lexer": "ipython3",
   "version": "3.11.9"
  }
 },
 "nbformat": 4,
 "nbformat_minor": 2
}
