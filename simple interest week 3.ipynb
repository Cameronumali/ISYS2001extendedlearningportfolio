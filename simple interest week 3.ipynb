{
 "cells": [
  {
   "cell_type": "code",
   "execution_count": 1,
   "metadata": {},
   "outputs": [
    {
     "name": "stdout",
     "output_type": "stream",
     "text": [
      "The total interest on the loan is: $25.0\n"
     ]
    }
   ],
   "source": [
    "amount_borrowed = float(input(\"Enter the amount borrowed: \"))\n",
    "\n",
    "\n",
    "interest_rate = float(input(\"Enter the interest rate (as a percentage): \"))\n",
    "\n",
    "\n",
    "loan_period = float(input(\"Enter the loan period (in years): \"))\n",
    "\n",
    "\n",
    "simple_interest = (amount_borrowed * interest_rate * loan_period) / 100\n",
    "\n",
    "\n",
    "print(f\"The total interest on the loan is: ${simple_interest}\")"
   ]
  }
 ],
 "metadata": {
  "kernelspec": {
   "display_name": "Python 3",
   "language": "python",
   "name": "python3"
  },
  "language_info": {
   "codemirror_mode": {
    "name": "ipython",
    "version": 3
   },
   "file_extension": ".py",
   "mimetype": "text/x-python",
   "name": "python",
   "nbconvert_exporter": "python",
   "pygments_lexer": "ipython3",
   "version": "3.11.9"
  }
 },
 "nbformat": 4,
 "nbformat_minor": 2
}
