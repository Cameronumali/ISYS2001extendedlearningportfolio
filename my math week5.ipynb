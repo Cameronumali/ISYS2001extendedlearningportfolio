{
 "cells": [
  {
   "cell_type": "code",
   "execution_count": 3,
   "metadata": {},
   "outputs": [],
   "source": [
    "def add(x, y):\n",
    "    x=5\n",
    "    y=1\n",
    "    return x + y\n",
    "\n",
    "def divide(x, y):\n",
    "    x=6\n",
    "    y=3\n",
    "    return x / y\n",
    "\n",
    "def multiply(x, y):\n",
    "    x=2\n",
    "    y=2\n",
    "    return x * y\n",
    "\n",
    "def subtract(x, y):\n",
    "    x=4\n",
    "    y=2\n",
    "    return x - y"
   ]
  }
 ],
 "metadata": {
  "kernelspec": {
   "display_name": "Python 3",
   "language": "python",
   "name": "python3"
  },
  "language_info": {
   "codemirror_mode": {
    "name": "ipython",
    "version": 3
   },
   "file_extension": ".py",
   "mimetype": "text/x-python",
   "name": "python",
   "nbconvert_exporter": "python",
   "pygments_lexer": "ipython3",
   "version": "3.11.9"
  }
 },
 "nbformat": 4,
 "nbformat_minor": 2
}
