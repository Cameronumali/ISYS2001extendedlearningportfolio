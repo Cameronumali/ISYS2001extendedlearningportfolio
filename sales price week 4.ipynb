{
 "cells": [
  {
   "cell_type": "code",
   "execution_count": 1,
   "metadata": {},
   "outputs": [
    {
     "name": "stdout",
     "output_type": "stream",
     "text": [
      "The total price of the item after a 20% discount and including GST is $88.00\n"
     ]
    }
   ],
   "source": [
    "def calculate_total_price(original_price, discount_percentage):\n",
    "    \n",
    "    price_after_discount = original_price * (1 - discount_percentage / 100)\n",
    "\n",
    "    \n",
    "    gst = 10\n",
    "\n",
    "    \n",
    "    total_price = price_after_discount * (1 + gst / 100)\n",
    "\n",
    "    return total_price\n",
    "\n",
    "\n",
    "original_price = 100  \n",
    "discount_percentage = 20  \n",
    "total_price = calculate_total_price(original_price, discount_percentage)\n",
    "print(f\"The total price of the item after a {discount_percentage}% discount and including GST is ${total_price:.2f}\")"
   ]
  }
 ],
 "metadata": {
  "kernelspec": {
   "display_name": "Python 3",
   "language": "python",
   "name": "python3"
  },
  "language_info": {
   "codemirror_mode": {
    "name": "ipython",
    "version": 3
   },
   "file_extension": ".py",
   "mimetype": "text/x-python",
   "name": "python",
   "nbconvert_exporter": "python",
   "pygments_lexer": "ipython3",
   "version": "3.11.9"
  }
 },
 "nbformat": 4,
 "nbformat_minor": 2
}
