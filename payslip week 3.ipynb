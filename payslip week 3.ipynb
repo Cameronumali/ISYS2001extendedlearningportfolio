{
 "cells": [
  {
   "cell_type": "code",
   "execution_count": 1,
   "metadata": {},
   "outputs": [
    {
     "name": "stdout",
     "output_type": "stream",
     "text": [
      "Payslip of Ram\n",
      "Salary: 25000 Commission: 400.0 Tax: 2540.0\n",
      "Total pay: 22860.0\n"
     ]
    }
   ],
   "source": [
    "def calculate_pay(salary, sales):\n",
    "    \n",
    "    commission = 0.02 * sales\n",
    "\n",
    "   \n",
    "    tax = (salary + commission) * 0.10\n",
    "\n",
    "    \n",
    "    pay = salary + commission - tax\n",
    "\n",
    "   \n",
    "    print('Payslip of Ram')\n",
    "    print('Salary:', salary, 'Commission:', commission, 'Tax:', tax)\n",
    "    print('Total pay:', pay)\n",
    "\n",
    "\n",
    "salary = 25000\n",
    "sales = 20000\n",
    "calculate_pay(salary, sales)"
   ]
  }
 ],
 "metadata": {
  "kernelspec": {
   "display_name": "Python 3",
   "language": "python",
   "name": "python3"
  },
  "language_info": {
   "codemirror_mode": {
    "name": "ipython",
    "version": 3
   },
   "file_extension": ".py",
   "mimetype": "text/x-python",
   "name": "python",
   "nbconvert_exporter": "python",
   "pygments_lexer": "ipython3",
   "version": "3.11.9"
  }
 },
 "nbformat": 4,
 "nbformat_minor": 2
}
