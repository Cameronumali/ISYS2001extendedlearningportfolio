{
 "cells": [
  {
   "cell_type": "code",
   "execution_count": null,
   "metadata": {},
   "outputs": [],
   "source": []
  },
  {
   "cell_type": "code",
   "execution_count": 1,
   "metadata": {},
   "outputs": [
    {
     "name": "stdout",
     "output_type": "stream",
     "text": [
      "{'Morning': 'Cameron', 'Afternoon': 'Jimmy'}\n"
     ]
    }
   ],
   "source": [
    "def assign_shifts_to_volunteers(volunteers: list, shifts: list) -> dict:\n",
    "    \"\"\"\n",
    "    Assigns volunteers to available shifts based on their preferences.\n",
    "\n",
    "    Args:\n",
    "        volunteers (list): List of volunteers' names.\n",
    "        shifts (list): List of available shifts.\n",
    "\n",
    "    Returns:\n",
    "        dict: A dictionary mapping shifts to volunteers.\n",
    "\n",
    "    Example:\n",
    "        >>> assign_shifts_to_volunteers([\"Cameron\", \"Jimmy\"], [\"Morning\", \"Afternoon\"])\n",
    "        {'Morning': 'Cameron', 'Afternoon': 'Jimmy'}\n",
    "    \"\"\"\n",
    "\n",
    "    # Initialize an empty dictionary for shift assignments\n",
    "    shift_assignments = {}\n",
    "\n",
    "    for volunteer in volunteers:  # Loop through the volunteers\n",
    "        # Prompt the volunteer for their preferred shift number\n",
    "        while True:\n",
    "            try:\n",
    "                preference_num = int(input(f\"{volunteer}, enter your preferred shift number (1-{len(shifts)}): \"))\n",
    "                if 1 <= preference_num <= len(shifts):\n",
    "                    break\n",
    "                else:\n",
    "                    print(\"Invalid input. Please enter a number within the range.\")\n",
    "            except ValueError:\n",
    "                print(\"Invalid input. Please enter a number.\")\n",
    "\n",
    "        # Convert to 0-based index\n",
    "        preference_num -= 1\n",
    "\n",
    "        # Assign the preferred shift to the volunteer and remove it from the list of available shifts\n",
    "        shift_assignments[shifts.pop(preference_num)] = volunteer\n",
    "\n",
    "    return shift_assignments\n",
    "\n",
    "if __name__ == \"__main__\":\n",
    "    # List of volunteers\n",
    "    volunteers = [\"Cameron\", \"Jimmy\"]\n",
    "    # List of available shifts\n",
    "    shifts = [\"Morning\", \"Afternoon\"]\n",
    "\n",
    "    # Call the assign_shifts_to_volunteers function\n",
    "    shift_assignments = assign_shifts_to_volunteers(volunteers, shifts)\n",
    "\n",
    "    # Print the shift assignments\n",
    "    print(shift_assignments)"
   ]
  }
 ],
 "metadata": {
  "kernelspec": {
   "display_name": "Python 3",
   "language": "python",
   "name": "python3"
  },
  "language_info": {
   "codemirror_mode": {
    "name": "ipython",
    "version": 3
   },
   "file_extension": ".py",
   "mimetype": "text/x-python",
   "name": "python",
   "nbconvert_exporter": "python",
   "pygments_lexer": "ipython3",
   "version": "3.11.9"
  }
 },
 "nbformat": 4,
 "nbformat_minor": 2
}
