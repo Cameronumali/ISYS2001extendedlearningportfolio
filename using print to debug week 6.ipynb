{
 "cells": [
  {
   "cell_type": "code",
   "execution_count": 8,
   "metadata": {},
   "outputs": [],
   "source": [
    "def isPrime(candidate):\n",
    "    if candidate <= 1:\n",
    "        return False\n",
    "\n",
    "    lower = candidate - 1\n",
    "    while lower > 1:\n",
    "        if candidate / lower == candidate // lower:\n",
    "            return False\n",
    "        lower -= 1\n",
    "    print(f\"{candidate}is not divisible by any number up to its square root, so it's prime\")\n",
    "\n",
    "    return True"
   ]
  }
 ],
 "metadata": {
  "kernelspec": {
   "display_name": "Python 3",
   "language": "python",
   "name": "python3"
  },
  "language_info": {
   "codemirror_mode": {
    "name": "ipython",
    "version": 3
   },
   "file_extension": ".py",
   "mimetype": "text/x-python",
   "name": "python",
   "nbconvert_exporter": "python",
   "pygments_lexer": "ipython3",
   "version": "3.11.9"
  }
 },
 "nbformat": 4,
 "nbformat_minor": 2
}
